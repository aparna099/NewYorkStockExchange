{
 "cells": [
  {
   "cell_type": "code",
   "execution_count": 20,
   "metadata": {},
   "outputs": [],
   "source": [
    "# Importing all packages:\n",
    "\n",
    "import pandas as pd \n",
    "import numpy as np\n",
    "import matplotlib.pyplot as plt\n",
    "import seaborn as sns \n"
   ]
  },
  {
   "cell_type": "code",
   "execution_count": 27,
   "metadata": {},
   "outputs": [
    {
     "name": "stdout",
     "output_type": "stream",
     "text": [
      "<class 'pandas.core.frame.DataFrame'>\n",
      "RangeIndex: 851264 entries, 0 to 851263\n",
      "Data columns (total 7 columns):\n",
      " #   Column  Non-Null Count   Dtype  \n",
      "---  ------  --------------   -----  \n",
      " 0   date    851264 non-null  object \n",
      " 1   symbol  851264 non-null  object \n",
      " 2   open    851264 non-null  float64\n",
      " 3   close   851264 non-null  float64\n",
      " 4   low     851264 non-null  float64\n",
      " 5   high    851264 non-null  float64\n",
      " 6   volume  851264 non-null  float64\n",
      "dtypes: float64(5), object(2)\n",
      "memory usage: 45.5+ MB\n"
     ]
    },
    {
     "data": {
      "text/plain": [
       "date      False\n",
       "symbol    False\n",
       "open      False\n",
       "close     False\n",
       "low       False\n",
       "high      False\n",
       "volume    False\n",
       "dtype: bool"
      ]
     },
     "execution_count": 27,
     "metadata": {},
     "output_type": "execute_result"
    }
   ],
   "source": [
    "# Importing all data:\n",
    "\n",
    "prices_data = pd.read_csv(\"../data/prices.csv\")\n",
    "# print(prices_data.head())\n",
    "prices_data.info()\n",
    "prices_data.isna().any()\n"
   ]
  },
  {
   "cell_type": "code",
   "execution_count": 28,
   "metadata": {},
   "outputs": [
    {
     "data": {
      "text/html": [
       "<div>\n",
       "<style scoped>\n",
       "    .dataframe tbody tr th:only-of-type {\n",
       "        vertical-align: middle;\n",
       "    }\n",
       "\n",
       "    .dataframe tbody tr th {\n",
       "        vertical-align: top;\n",
       "    }\n",
       "\n",
       "    .dataframe thead th {\n",
       "        text-align: right;\n",
       "    }\n",
       "</style>\n",
       "<table border=\"1\" class=\"dataframe\">\n",
       "  <thead>\n",
       "    <tr style=\"text-align: right;\">\n",
       "      <th></th>\n",
       "      <th>open</th>\n",
       "      <th>close</th>\n",
       "      <th>low</th>\n",
       "      <th>high</th>\n",
       "      <th>volume</th>\n",
       "    </tr>\n",
       "  </thead>\n",
       "  <tbody>\n",
       "    <tr>\n",
       "      <th>count</th>\n",
       "      <td>851264.000000</td>\n",
       "      <td>851264.000000</td>\n",
       "      <td>851264.000000</td>\n",
       "      <td>851264.000000</td>\n",
       "      <td>8.512640e+05</td>\n",
       "    </tr>\n",
       "    <tr>\n",
       "      <th>mean</th>\n",
       "      <td>70.836986</td>\n",
       "      <td>70.857109</td>\n",
       "      <td>70.118414</td>\n",
       "      <td>71.543476</td>\n",
       "      <td>5.415113e+06</td>\n",
       "    </tr>\n",
       "    <tr>\n",
       "      <th>std</th>\n",
       "      <td>83.695876</td>\n",
       "      <td>83.689686</td>\n",
       "      <td>82.877294</td>\n",
       "      <td>84.465504</td>\n",
       "      <td>1.249468e+07</td>\n",
       "    </tr>\n",
       "    <tr>\n",
       "      <th>min</th>\n",
       "      <td>0.850000</td>\n",
       "      <td>0.860000</td>\n",
       "      <td>0.830000</td>\n",
       "      <td>0.880000</td>\n",
       "      <td>0.000000e+00</td>\n",
       "    </tr>\n",
       "    <tr>\n",
       "      <th>25%</th>\n",
       "      <td>33.840000</td>\n",
       "      <td>33.849998</td>\n",
       "      <td>33.480000</td>\n",
       "      <td>34.189999</td>\n",
       "      <td>1.221500e+06</td>\n",
       "    </tr>\n",
       "    <tr>\n",
       "      <th>50%</th>\n",
       "      <td>52.770000</td>\n",
       "      <td>52.799999</td>\n",
       "      <td>52.230000</td>\n",
       "      <td>53.310001</td>\n",
       "      <td>2.476250e+06</td>\n",
       "    </tr>\n",
       "    <tr>\n",
       "      <th>75%</th>\n",
       "      <td>79.879997</td>\n",
       "      <td>79.889999</td>\n",
       "      <td>79.110001</td>\n",
       "      <td>80.610001</td>\n",
       "      <td>5.222500e+06</td>\n",
       "    </tr>\n",
       "    <tr>\n",
       "      <th>max</th>\n",
       "      <td>1584.439941</td>\n",
       "      <td>1578.130005</td>\n",
       "      <td>1549.939941</td>\n",
       "      <td>1600.930054</td>\n",
       "      <td>8.596434e+08</td>\n",
       "    </tr>\n",
       "  </tbody>\n",
       "</table>\n",
       "</div>"
      ],
      "text/plain": [
       "                open          close            low           high  \\\n",
       "count  851264.000000  851264.000000  851264.000000  851264.000000   \n",
       "mean       70.836986      70.857109      70.118414      71.543476   \n",
       "std        83.695876      83.689686      82.877294      84.465504   \n",
       "min         0.850000       0.860000       0.830000       0.880000   \n",
       "25%        33.840000      33.849998      33.480000      34.189999   \n",
       "50%        52.770000      52.799999      52.230000      53.310001   \n",
       "75%        79.879997      79.889999      79.110001      80.610001   \n",
       "max      1584.439941    1578.130005    1549.939941    1600.930054   \n",
       "\n",
       "             volume  \n",
       "count  8.512640e+05  \n",
       "mean   5.415113e+06  \n",
       "std    1.249468e+07  \n",
       "min    0.000000e+00  \n",
       "25%    1.221500e+06  \n",
       "50%    2.476250e+06  \n",
       "75%    5.222500e+06  \n",
       "max    8.596434e+08  "
      ]
     },
     "execution_count": 28,
     "metadata": {},
     "output_type": "execute_result"
    }
   ],
   "source": [
    "prices_data.describe()"
   ]
  },
  {
   "cell_type": "code",
   "execution_count": 39,
   "metadata": {},
   "outputs": [
    {
     "data": {
      "text/plain": [
       "<Figure size 500x500 with 0 Axes>"
      ]
     },
     "execution_count": 39,
     "metadata": {},
     "output_type": "execute_result"
    },
    {
     "data": {
      "image/png": "[encoded data removed]",
      "text/plain": [
       "<Figure size 640x480 with 6 Axes>"
      ]
     },
     "metadata": {},
     "output_type": "display_data"
    },
    {
     "data": {
      "text/plain": [
       "<Figure size 500x500 with 0 Axes>"
      ]
     },
     "metadata": {},
     "output_type": "display_data"
    }
   ],
   "source": [
    "prices_data.hist()\n",
    "plt.figure(figsize= (5,5))\n",
    "\n"
   ]
  },
  {
   "cell_type": "code",
   "execution_count": 41,
   "metadata": {},
   "outputs": [
    {
     "name": "stdout",
     "output_type": "stream",
     "text": [
      "<class 'pandas.core.frame.DataFrame'>\n",
      "RangeIndex: 851264 entries, 0 to 851263\n",
      "Data columns (total 7 columns):\n",
      " #   Column  Non-Null Count   Dtype  \n",
      "---  ------  --------------   -----  \n",
      " 0   date    851264 non-null  object \n",
      " 1   symbol  851264 non-null  object \n",
      " 2   open    851264 non-null  float64\n",
      " 3   close   851264 non-null  float64\n",
      " 4   low     851264 non-null  float64\n",
      " 5   high    851264 non-null  float64\n",
      " 6   volume  851264 non-null  float64\n",
      "dtypes: float64(5), object(2)\n",
      "memory usage: 45.5+ MB\n",
      "None\n",
      "(851264, 7)\n",
      "date      False\n",
      "symbol    False\n",
      "open      False\n",
      "close     False\n",
      "low       False\n",
      "high      False\n",
      "volume    False\n",
      "dtype: bool\n"
     ]
    }
   ],
   "source": [
    "prices_split_adjusted_data = pd.read_csv(\"../data/prices-split-adjusted.csv\")\n",
    "# print(prices_split_adjusted_data.head())\n",
    "print(prices_split_adjusted_data.info())\n",
    "print(prices_split_adjusted_data.shape)\n",
    "print(prices_split_adjusted_data.isna().any())"
   ]
  },
  {
   "cell_type": "code",
   "execution_count": 50,
   "metadata": {},
   "outputs": [
    {
     "name": "stdout",
     "output_type": "stream",
     "text": [
      "                open          close            low           high  \\\n",
      "count  851264.000000  851264.000000  851264.000000  851264.000000   \n",
      "mean       64.993618      65.011913      64.336541      65.639748   \n",
      "std        75.203893      75.201216      74.459518      75.906861   \n",
      "min         1.660000       1.590000       1.500000       1.810000   \n",
      "25%        31.270000      31.292776      30.940001      31.620001   \n",
      "50%        48.459999      48.480000      47.970001      48.959999   \n",
      "75%        75.120003      75.139999      74.400002      75.849998   \n",
      "max      1584.439941    1578.130005    1549.939941    1600.930054   \n",
      "\n",
      "             volume  \n",
      "count  8.512640e+05  \n",
      "mean   5.415113e+06  \n",
      "std    1.249468e+07  \n",
      "min    0.000000e+00  \n",
      "25%    1.221500e+06  \n",
      "50%    2.476250e+06  \n",
      "75%    5.222500e+06  \n",
      "max    8.596434e+08  \n"
     ]
    }
   ],
   "source": [
    "print(prices_split_adjusted_data.describe())"
   ]
  },
  {
   "cell_type": "code",
   "execution_count": 44,
   "metadata": {},
   "outputs": [
    {
     "data": {
      "text/plain": [
       "array([[<Axes: title={'center': 'open'}>,\n",
       "        <Axes: title={'center': 'close'}>],\n",
       "       [<Axes: title={'center': 'low'}>,\n",
       "        <Axes: title={'center': 'high'}>],\n",
       "       [<Axes: title={'center': 'volume'}>, <Axes: >]], dtype=object)"
      ]
     },
     "execution_count": 44,
     "metadata": {},
     "output_type": "execute_result"
    },
    {
     "data": {
      "image/png": "[encoded data removed]",
      "text/plain": [
       "<Figure size 640x480 with 6 Axes>"
      ]
     },
     "metadata": {},
     "output_type": "display_data"
    }
   ],
   "source": [
    "prices_split_adjusted_data.hist()"
   ]
  },
  {
   "cell_type": "code",
   "execution_count": 48,
   "metadata": {},
   "outputs": [
    {
     "name": "stdout",
     "output_type": "stream",
     "text": [
      "(1781, 79)\n",
      "<class 'pandas.core.frame.DataFrame'>\n",
      "RangeIndex: 1781 entries, 0 to 1780\n",
      "Data columns (total 79 columns):\n",
      " #   Column                                               Non-Null Count  Dtype  \n",
      "---  ------                                               --------------  -----  \n",
      " 0   Unnamed: 0                                           1781 non-null   int64  \n",
      " 1   Ticker Symbol                                        1781 non-null   object \n",
      " 2   Period Ending                                        1781 non-null   object \n",
      " 3   Accounts Payable                                     1781 non-null   float64\n",
      " 4   Accounts Receivable                                  1781 non-null   float64\n",
      " 5   Add'l income/expense items                           1781 non-null   float64\n",
      " 6   After Tax ROE                                        1781 non-null   float64\n",
      " 7   Capital Expenditures                                 1781 non-null   float64\n",
      " 8   Capital Surplus                                      1781 non-null   float64\n",
      " 9   Cash Ratio                                           1482 non-null   float64\n",
      " 10  Cash and Cash Equivalents                            1781 non-null   float64\n",
      " 11  Changes in Inventories                               1781 non-null   float64\n",
      " 12  Common Stocks                                        1781 non-null   float64\n",
      " 13  Cost of Revenue                                      1781 non-null   float64\n",
      " 14  Current Ratio                                        1482 non-null   float64\n",
      " 15  Deferred Asset Charges                               1781 non-null   float64\n",
      " 16  Deferred Liability Charges                           1781 non-null   float64\n",
      " 17  Depreciation                                         1781 non-null   float64\n",
      " 18  Earnings Before Interest and Tax                     1781 non-null   float64\n",
      " 19  Earnings Before Tax                                  1781 non-null   float64\n",
      " 20  Effect of Exchange Rate                              1781 non-null   float64\n",
      " 21  Equity Earnings/Loss Unconsolidated Subsidiary       1781 non-null   float64\n",
      " 22  Fixed Assets                                         1781 non-null   float64\n",
      " 23  Goodwill                                             1781 non-null   float64\n",
      " 24  Gross Margin                                         1781 non-null   float64\n",
      " 25  Gross Profit                                         1781 non-null   float64\n",
      " 26  Income Tax                                           1781 non-null   float64\n",
      " 27  Intangible Assets                                    1781 non-null   float64\n",
      " 28  Interest Expense                                     1781 non-null   float64\n",
      " 29  Inventory                                            1781 non-null   float64\n",
      " 30  Investments                                          1781 non-null   float64\n",
      " 31  Liabilities                                          1781 non-null   float64\n",
      " 32  Long-Term Debt                                       1781 non-null   float64\n",
      " 33  Long-Term Investments                                1781 non-null   float64\n",
      " 34  Minority Interest                                    1781 non-null   float64\n",
      " 35  Misc. Stocks                                         1781 non-null   float64\n",
      " 36  Net Borrowings                                       1781 non-null   float64\n",
      " 37  Net Cash Flow                                        1781 non-null   float64\n",
      " 38  Net Cash Flow-Operating                              1781 non-null   float64\n",
      " 39  Net Cash Flows-Financing                             1781 non-null   float64\n",
      " 40  Net Cash Flows-Investing                             1781 non-null   float64\n",
      " 41  Net Income                                           1781 non-null   float64\n",
      " 42  Net Income Adjustments                               1781 non-null   float64\n",
      " 43  Net Income Applicable to Common Shareholders         1781 non-null   float64\n",
      " 44  Net Income-Cont. Operations                          1781 non-null   float64\n",
      " 45  Net Receivables                                      1781 non-null   float64\n",
      " 46  Non-Recurring Items                                  1781 non-null   float64\n",
      " 47  Operating Income                                     1781 non-null   float64\n",
      " 48  Operating Margin                                     1781 non-null   float64\n",
      " 49  Other Assets                                         1781 non-null   float64\n",
      " 50  Other Current Assets                                 1781 non-null   float64\n",
      " 51  Other Current Liabilities                            1781 non-null   float64\n",
      " 52  Other Equity                                         1781 non-null   float64\n",
      " 53  Other Financing Activities                           1781 non-null   float64\n",
      " 54  Other Investing Activities                           1781 non-null   float64\n",
      " 55  Other Liabilities                                    1781 non-null   float64\n",
      " 56  Other Operating Activities                           1781 non-null   float64\n",
      " 57  Other Operating Items                                1781 non-null   float64\n",
      " 58  Pre-Tax Margin                                       1781 non-null   float64\n",
      " 59  Pre-Tax ROE                                          1781 non-null   float64\n",
      " 60  Profit Margin                                        1781 non-null   float64\n",
      " 61  Quick Ratio                                          1482 non-null   float64\n",
      " 62  Research and Development                             1781 non-null   float64\n",
      " 63  Retained Earnings                                    1781 non-null   float64\n",
      " 64  Sale and Purchase of Stock                           1781 non-null   float64\n",
      " 65  Sales, General and Admin.                            1781 non-null   float64\n",
      " 66  Short-Term Debt / Current Portion of Long-Term Debt  1781 non-null   float64\n",
      " 67  Short-Term Investments                               1781 non-null   float64\n",
      " 68  Total Assets                                         1781 non-null   float64\n",
      " 69  Total Current Assets                                 1781 non-null   float64\n",
      " 70  Total Current Liabilities                            1781 non-null   float64\n",
      " 71  Total Equity                                         1781 non-null   float64\n",
      " 72  Total Liabilities                                    1781 non-null   float64\n",
      " 73  Total Liabilities & Equity                           1781 non-null   float64\n",
      " 74  Total Revenue                                        1781 non-null   float64\n",
      " 75  Treasury Stock                                       1781 non-null   float64\n",
      " 76  For Year                                             1608 non-null   float64\n",
      " 77  Earnings Per Share                                   1562 non-null   float64\n",
      " 78  Estimated Shares Outstanding                         1562 non-null   float64\n",
      "dtypes: float64(76), int64(1), object(2)\n",
      "memory usage: 1.1+ MB\n",
      "None\n",
      "Unnamed: 0                      False\n",
      "Ticker Symbol                   False\n",
      "Period Ending                   False\n",
      "Accounts Payable                False\n",
      "Accounts Receivable             False\n",
      "                                ...  \n",
      "Total Revenue                   False\n",
      "Treasury Stock                  False\n",
      "For Year                         True\n",
      "Earnings Per Share               True\n",
      "Estimated Shares Outstanding     True\n",
      "Length: 79, dtype: bool\n"
     ]
    }
   ],
   "source": [
    "\n",
    "fundamentals_data = pd.read_csv(\"../data/fundamentals.csv\")\n",
    "# print(fundamentals_data.head())\n",
    "print(fundamentals_data.shape)\n",
    "print(fundamentals_data.info())\n",
    "print(fundamentals_data.isna().any())"
   ]
  },
  {
   "cell_type": "code",
   "execution_count": 49,
   "metadata": {},
   "outputs": [
    {
     "name": "stdout",
     "output_type": "stream",
     "text": [
      "        Unnamed: 0  Accounts Payable  Accounts Receivable  \\\n",
      "count  1781.000000      1.781000e+03         1.781000e+03   \n",
      "mean    890.000000      4.673418e+09        -6.353484e+07   \n",
      "std     514.274732      1.406047e+10         7.562794e+08   \n",
      "min       0.000000      0.000000e+00        -6.452000e+09   \n",
      "25%     445.000000      5.160000e+08        -1.040000e+08   \n",
      "50%     890.000000      1.334000e+09        -1.830000e+07   \n",
      "75%    1335.000000      3.246000e+09         7.816000e+06   \n",
      "max    1780.000000      2.069390e+11         2.266400e+10   \n",
      "\n",
      "       Add'l income/expense items  After Tax ROE  Capital Expenditures  \\\n",
      "count                1.781000e+03    1781.000000          1.781000e+03   \n",
      "mean                 6.908940e+07      43.601348         -1.251925e+09   \n",
      "std                  6.848143e+08     233.924028          2.979963e+09   \n",
      "min                 -6.768000e+09       0.000000         -3.798500e+10   \n",
      "25%                 -2.638000e+06      10.000000         -1.151200e+09   \n",
      "50%                  2.000000e+06      16.000000         -3.580000e+08   \n",
      "75%                  3.359200e+07      26.000000         -1.291000e+08   \n",
      "max                  1.416200e+10    5789.000000          5.000000e+06   \n",
      "\n",
      "       Capital Surplus   Cash Ratio  Cash and Cash Equivalents  \\\n",
      "count     1.781000e+03  1482.000000               1.781000e+03   \n",
      "mean      5.351784e+09    74.457490               8.521399e+09   \n",
      "std       1.133977e+10   102.298374               5.432105e+10   \n",
      "min      -7.215000e+08     0.000000               2.100000e+04   \n",
      "25%       4.791000e+08    17.000000               3.088000e+08   \n",
      "50%       1.997080e+09    41.000000               8.625900e+08   \n",
      "75%       5.735000e+09    90.000000               2.310000e+09   \n",
      "max       1.082880e+11  1041.000000               7.281110e+11   \n",
      "\n",
      "       Changes in Inventories  ...  Total Current Assets  \\\n",
      "count            1.781000e+03  ...          1.781000e+03   \n",
      "mean            -6.787749e+07  ...          6.726349e+09   \n",
      "std              3.903369e+08  ...          1.344800e+10   \n",
      "min             -5.562000e+09  ...          0.000000e+00   \n",
      "25%             -5.400000e+07  ...          1.044178e+09   \n",
      "50%              0.000000e+00  ...          2.747200e+09   \n",
      "75%              0.000000e+00  ...          6.162000e+09   \n",
      "max              3.755000e+09  ...          1.396600e+11   \n",
      "\n",
      "       Total Current Liabilities  Total Equity  Total Liabilities  \\\n",
      "count               1.781000e+03  1.781000e+03       1.781000e+03   \n",
      "mean                4.699919e+09  1.188846e+10       4.380420e+10   \n",
      "std                 9.538832e+09  2.584429e+10       1.817039e+11   \n",
      "min                 0.000000e+00 -1.324400e+10       2.577000e+06   \n",
      "25%                 5.640760e+08  2.201492e+09       3.843300e+09   \n",
      "50%                 1.701500e+09  4.983000e+09       9.141000e+09   \n",
      "75%                 4.381000e+09  1.080900e+10       2.389700e+10   \n",
      "max                 9.028100e+10  2.562050e+11       2.340547e+12   \n",
      "\n",
      "       Total Liabilities & Equity  Total Revenue  Treasury Stock     For Year  \\\n",
      "count                1.781000e+03   1.781000e+03    1.781000e+03  1608.000000   \n",
      "mean                 5.569266e+10   2.029154e+10   -3.951522e+09  2013.305348   \n",
      "std                  2.033612e+11   4.095355e+10    1.407047e+10    19.953135   \n",
      "min                  2.705000e+06   1.514000e+06   -2.297340e+11  1215.000000   \n",
      "25%                  6.552689e+09   3.714000e+09   -3.040895e+09  2013.000000   \n",
      "50%                  1.517000e+10   8.023200e+09   -3.068350e+08  2014.000000   \n",
      "75%                  3.599710e+10   1.748600e+10    0.000000e+00  2015.000000   \n",
      "max                  2.572274e+12   4.856510e+11    0.000000e+00  2016.000000   \n",
      "\n",
      "       Earnings Per Share  Estimated Shares Outstanding  \n",
      "count         1562.000000                  1.562000e+03  \n",
      "mean             3.353707                  6.024244e+08  \n",
      "std              4.695896                  1.142585e+09  \n",
      "min            -61.200000                 -1.513945e+09  \n",
      "25%              1.590000                  1.493318e+08  \n",
      "50%              2.810000                  2.929409e+08  \n",
      "75%              4.590000                  5.492163e+08  \n",
      "max             50.090000                  1.610769e+10  \n",
      "\n",
      "[8 rows x 77 columns]\n"
     ]
    }
   ],
   "source": [
    "print(fundamentals_data.describe())"
   ]
  },
  {
   "cell_type": "code",
   "execution_count": 62,
   "metadata": {},
   "outputs": [],
   "source": [
    "plt.figure(figsize=(20,20))\n",
    "# fundamentals_data.hist()\n",
    "newdf = fundamentals_data.select_dtypes(include=np.number)\n",
    "# plt.hist(newdf)\n",
    "sns.histplot(newdf)\n",
    " "
   ]
  },
  {
   "cell_type": "code",
   "execution_count": 52,
   "metadata": {},
   "outputs": [
    {
     "name": "stdout",
     "output_type": "stream",
     "text": [
      "(505, 8)\n",
      "<class 'pandas.core.frame.DataFrame'>\n",
      "RangeIndex: 505 entries, 0 to 504\n",
      "Data columns (total 8 columns):\n",
      " #   Column                   Non-Null Count  Dtype \n",
      "---  ------                   --------------  ----- \n",
      " 0   Ticker symbol            505 non-null    object\n",
      " 1   Security                 505 non-null    object\n",
      " 2   SEC filings              505 non-null    object\n",
      " 3   GICS Sector              505 non-null    object\n",
      " 4   GICS Sub Industry        505 non-null    object\n",
      " 5   Address of Headquarters  505 non-null    object\n",
      " 6   Date first added         307 non-null    object\n",
      " 7   CIK                      505 non-null    int64 \n",
      "dtypes: int64(1), object(7)\n",
      "memory usage: 31.7+ KB\n",
      "None\n",
      "Ticker symbol              False\n",
      "Security                   False\n",
      "SEC filings                False\n",
      "GICS Sector                False\n",
      "GICS Sub Industry          False\n",
      "Address of Headquarters    False\n",
      "Date first added            True\n",
      "CIK                        False\n",
      "dtype: bool\n"
     ]
    }
   ],
   "source": [
    "securities_data = pd.read_csv(\"../data/securities.csv\")\n",
    "# print(securities_data.head())\n",
    "print(securities_data.shape)\n",
    "print(securities_data.info())\n",
    "print(securities_data.isna().any())"
   ]
  },
  {
   "cell_type": "code",
   "execution_count": null,
   "metadata": {},
   "outputs": [],
   "source": []
  }
 ],
 "metadata": {
  "kernelspec": {
   "display_name": "Python 3",
   "language": "python",
   "name": "python3"
  },
  "language_info": {
   "codemirror_mode": {
    "name": "ipython",
    "version": 3
   },
   "file_extension": ".py",
   "mimetype": "text/x-python",
   "name": "python",
   "nbconvert_exporter": "python",
   "pygments_lexer": "ipython3",
   "version": "3.10.9"
  },
  "orig_nbformat": 4
 },
 "nbformat": 4,
 "nbformat_minor": 2
}
